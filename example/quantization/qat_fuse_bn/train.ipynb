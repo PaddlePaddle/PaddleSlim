{
 "cells": [
  {
   "cell_type": "code",
   "execution_count": 1,
   "metadata": {},
   "outputs": [
    {
     "name": "stderr",
     "output_type": "stream",
     "text": [
      "/root/miniconda3/lib/python3.8/site-packages/paddle/fluid/framework.py:507: UserWarning: PaddlePaddle version 2.3.0 or higher is required, but 0.0.0 installed, Maybe you are using a develop version, please make sure the version is good with your code.\n"
     ]
    }
   ],
   "source": [
    "\n",
    "import paddle\n",
    "import paddleslim\n",
    "from paddle.quantization import QuantConfig\n",
    "from paddle.quantization.quanters import FakeQuanterWithAbsMaxObserver\n",
    "from paddle.quantization.quanters.abs_max import (\n",
    "    FakeQuanterWithAbsMaxObserverLayer,\n",
    ")\n",
    "from paddle.vision.models import resnet18\n",
    "from paddleslim.quant import SlimQAT\n",
    "from paddleslim.quant.constraints import FreezedConvBNConstraint\n",
    "model = resnet18()"
   ]
  },
  {
   "cell_type": "code",
   "execution_count": 2,
   "metadata": {},
   "outputs": [
    {
     "name": "stderr",
     "output_type": "stream",
     "text": [
      "/root/miniconda3/lib/python3.8/site-packages/paddle/nn/layer/norm.py:771: UserWarning: When training, we now always track global mean and variance.\n"
     ]
    }
   ],
   "source": [
    "quanter = FakeQuanterWithAbsMaxObserver(moving_rate=0.9)\n",
    "q_config = QuantConfig(activation=quanter, weight=quanter)\n",
    "q_config.add_constraints(FreezedConvBNConstraint())\n",
    "qat = SlimQAT(q_config)\n",
    "x = paddle.rand([1, 3, 224, 224])\n",
    "quant_model = qat.quantize(model, inplace=True, inputs=x)\n",
    "#paddle.jit.save(quant_model, \"./qat_model\", input_spec=[x])\n",
    "# convert_model = qat.convert(quant_model)\n",
    "# paddle.jit.save(convert_model, \"./fp_infer\", input_spec=[x])\n",
    "# out = quant_model(x)\n",
    "# out.backward()"
   ]
  },
  {
   "cell_type": "code",
   "execution_count": null,
   "metadata": {},
   "outputs": [],
   "source": [
    "print(quant_model)"
   ]
  },
  {
   "cell_type": "markdown",
   "metadata": {},
   "source": [
    "### 导出ONNX格式模型"
   ]
  },
  {
   "cell_type": "code",
   "execution_count": null,
   "metadata": {},
   "outputs": [],
   "source": [
    "!paddle2onnx --model_dir ./ \\\n",
    "            --model_filename fp_infer.pdmodel \\\n",
    "            --params_filename fp_infer.pdiparams \\\n",
    "            --save_file fp_infer.onnx \\\n",
    "            --opset_version 13"
   ]
  },
  {
   "cell_type": "code",
   "execution_count": null,
   "metadata": {},
   "outputs": [],
   "source": [
    "import paddleslim\n",
    "print(dir(paddleslim.quant))\n",
    "print(paddleslim.__file__)"
   ]
  },
  {
   "cell_type": "code",
   "execution_count": null,
   "metadata": {},
   "outputs": [],
   "source": []
  }
 ],
 "metadata": {
  "kernelspec": {
   "display_name": "Python 3",
   "language": "python",
   "name": "python3"
  },
  "language_info": {
   "codemirror_mode": {
    "name": "ipython",
    "version": 3
   },
   "file_extension": ".py",
   "mimetype": "text/x-python",
   "name": "python",
   "nbconvert_exporter": "python",
   "pygments_lexer": "ipython3",
   "version": "3.8.3"
  },
  "vscode": {
   "interpreter": {
    "hash": "2f394aca7ca06fed1e6064aef884364492d7cdda3614a461e02e6407fc40ba69"
   }
  }
 },
 "nbformat": 4,
 "nbformat_minor": 4
}
